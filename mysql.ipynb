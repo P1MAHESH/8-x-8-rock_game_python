{
  "nbformat": 4,
  "nbformat_minor": 0,
  "metadata": {
    "colab": {
      "provenance": [],
      "gpuType": "T4",
      "authorship_tag": "ABX9TyOwcHMnil0MbQJ3d3I876C7",
      "include_colab_link": true
    },
    "kernelspec": {
      "name": "python3",
      "display_name": "Python 3"
    },
    "language_info": {
      "name": "python"
    },
    "accelerator": "GPU"
  },
  "cells": [
    {
      "cell_type": "markdown",
      "metadata": {
        "id": "view-in-github",
        "colab_type": "text"
      },
      "source": [
        "<a href=\"https://colab.research.google.com/github/P1MAHESH/8-x-8-rock_game_python/blob/main/mysql.ipynb\" target=\"_parent\"><img src=\"https://colab.research.google.com/assets/colab-badge.svg\" alt=\"Open In Colab\"/></a>"
      ]
    },
    {
      "cell_type": "code",
      "execution_count": 2,
      "metadata": {
        "colab": {
          "base_uri": "https://localhost:8080/"
        },
        "id": "1R4PvxbZEt_G",
        "outputId": "88f64879-e1f2-4eb1-8234-6e5228872121"
      },
      "outputs": [
        {
          "output_type": "stream",
          "name": "stdout",
          "text": [
            "Requirement already satisfied: pandas in /usr/local/lib/python3.11/dist-packages (2.2.2)\n",
            "Requirement already satisfied: requests in /usr/local/lib/python3.11/dist-packages (2.32.3)\n",
            "Collecting mysql-connector-python\n",
            "  Downloading mysql_connector_python-9.2.0-cp311-cp311-manylinux_2_28_x86_64.whl.metadata (6.0 kB)\n",
            "Requirement already satisfied: numpy>=1.23.2 in /usr/local/lib/python3.11/dist-packages (from pandas) (1.26.4)\n",
            "Requirement already satisfied: python-dateutil>=2.8.2 in /usr/local/lib/python3.11/dist-packages (from pandas) (2.8.2)\n",
            "Requirement already satisfied: pytz>=2020.1 in /usr/local/lib/python3.11/dist-packages (from pandas) (2025.1)\n",
            "Requirement already satisfied: tzdata>=2022.7 in /usr/local/lib/python3.11/dist-packages (from pandas) (2025.1)\n",
            "Requirement already satisfied: charset-normalizer<4,>=2 in /usr/local/lib/python3.11/dist-packages (from requests) (3.4.1)\n",
            "Requirement already satisfied: idna<4,>=2.5 in /usr/local/lib/python3.11/dist-packages (from requests) (3.10)\n",
            "Requirement already satisfied: urllib3<3,>=1.21.1 in /usr/local/lib/python3.11/dist-packages (from requests) (2.3.0)\n",
            "Requirement already satisfied: certifi>=2017.4.17 in /usr/local/lib/python3.11/dist-packages (from requests) (2025.1.31)\n",
            "Requirement already satisfied: six>=1.5 in /usr/local/lib/python3.11/dist-packages (from python-dateutil>=2.8.2->pandas) (1.17.0)\n",
            "Downloading mysql_connector_python-9.2.0-cp311-cp311-manylinux_2_28_x86_64.whl (34.0 MB)\n",
            "\u001b[2K   \u001b[90m━━━━━━━━━━━━━━━━━━━━━━━━━━━━━━━━━━━━━━━━\u001b[0m \u001b[32m34.0/34.0 MB\u001b[0m \u001b[31m22.3 MB/s\u001b[0m eta \u001b[36m0:00:00\u001b[0m\n",
            "\u001b[?25hInstalling collected packages: mysql-connector-python\n",
            "Successfully installed mysql-connector-python-9.2.0\n"
          ]
        }
      ],
      "source": [
        "!pip install pandas requests mysql-connector-python"
      ]
    },
    {
      "cell_type": "code",
      "source": [
        "!pip install pandas requests mysql-connector-python\n",
        "import pandas as pd\n",
        "import requests\n",
        "import mysql.connector\n",
        "from mysql.connector import Error\n",
        "\n",
        "# Step 1: Download the Iris dataset (JSON format)\n",
        "url = 'https://raw.githubusercontent.com/domoritz/maps/master/data/iris.json'\n",
        "response = requests.get(url)\n",
        "data = response.json()\n",
        "\n",
        "# Step 2: Convert JSON data to a Pandas DataFrame\n",
        "df = pd.DataFrame(data)\n",
        "\n",
        "# Step 3: Connect to MySQL database\n",
        "try:\n",
        "    connection = mysql.connector.connect(\n",
        "        host=\"localhost\",       # e.g. \"localhost\" or IP address\n",
        "        user=\"root\",            # e.g. \"root\"\n",
        "        password=\"your_mysql_password\",  # Replace with your MySQL root password\n",
        "        database=\"your_database_name\"  # Replace with your database name\n",
        "    )\n",
        "    cursor = connection.cursor()\n",
        "\n",
        "    # Step 4: Create table in MySQL\n",
        "    create_table_query = \"\"\"\n",
        "    CREATE TABLE IF NOT EXISTS iris (\n",
        "        id INT AUTO_INCREMENT PRIMARY KEY,\n",
        "        sepal_length FLOAT,\n",
        "        sepal_width FLOAT,\n",
        "        petal_length FLOAT,\n",
        "        petal_width FLOAT,\n",
        "        species VARCHAR(50)\n",
        "    );\n",
        "    \"\"\"\n",
        "    cursor.execute(create_table_query)\n",
        "\n",
        "    # Step 5: Insert data into MySQL\n",
        "    for index, row in df.iterrows():\n",
        "        cursor.execute(\"\"\"\n",
        "        INSERT INTO iris (sepal_length, sepal_width, petal_length, petal_width, species)\n",
        "        VALUES (%s, %s, %s, %s, %s)\n",
        "        \"\"\", (row['sepalLength'], row['sepalWidth'], row['petalLength'], row['petalWidth'], row['species']))\n",
        "\n",
        "    # Commit the transaction\n",
        "    connection.commit()\n",
        "\n",
        "    print(\"Data inserted successfully into MySQL\")\n",
        "\n",
        "except Error as e:\n",
        "    print(f\"Error: {e}\")\n",
        "finally:\n",
        "    # Step 6: Close the connection\n",
        "    # Check if connection is defined before accessing it\n",
        "    if 'connection' in locals() and connection.is_connected():\n",
        "        cursor.close()\n",
        "        connection.close()\n",
        "        print(\"MySQL connection is closed\")\n",
        "    else:\n",
        "        print(\"Connection was not established or already closed.\") # Added for clarity"
      ],
      "metadata": {
        "colab": {
          "base_uri": "https://localhost:8080/"
        },
        "id": "7gaK4Bh1FC0j",
        "outputId": "b9003782-e1ee-4fa7-b171-fbdd3f17c108"
      },
      "execution_count": 4,
      "outputs": [
        {
          "output_type": "stream",
          "name": "stdout",
          "text": [
            "Requirement already satisfied: pandas in /usr/local/lib/python3.11/dist-packages (2.2.2)\n",
            "Requirement already satisfied: requests in /usr/local/lib/python3.11/dist-packages (2.32.3)\n",
            "Requirement already satisfied: mysql-connector-python in /usr/local/lib/python3.11/dist-packages (9.2.0)\n",
            "Requirement already satisfied: numpy>=1.23.2 in /usr/local/lib/python3.11/dist-packages (from pandas) (1.26.4)\n",
            "Requirement already satisfied: python-dateutil>=2.8.2 in /usr/local/lib/python3.11/dist-packages (from pandas) (2.8.2)\n",
            "Requirement already satisfied: pytz>=2020.1 in /usr/local/lib/python3.11/dist-packages (from pandas) (2025.1)\n",
            "Requirement already satisfied: tzdata>=2022.7 in /usr/local/lib/python3.11/dist-packages (from pandas) (2025.1)\n",
            "Requirement already satisfied: charset-normalizer<4,>=2 in /usr/local/lib/python3.11/dist-packages (from requests) (3.4.1)\n",
            "Requirement already satisfied: idna<4,>=2.5 in /usr/local/lib/python3.11/dist-packages (from requests) (3.10)\n",
            "Requirement already satisfied: urllib3<3,>=1.21.1 in /usr/local/lib/python3.11/dist-packages (from requests) (2.3.0)\n",
            "Requirement already satisfied: certifi>=2017.4.17 in /usr/local/lib/python3.11/dist-packages (from requests) (2025.1.31)\n",
            "Requirement already satisfied: six>=1.5 in /usr/local/lib/python3.11/dist-packages (from python-dateutil>=2.8.2->pandas) (1.17.0)\n",
            "Error: 2002: Can't connect to local MySQL server through socket '%-.100s' (%s) (Warning: not all arguments converted during string formatting)\n",
            "Connection was not established or already closed.\n"
          ]
        }
      ]
    }
  ]
}